{
 "cells": [
  {
   "cell_type": "code",
   "execution_count": 1,
   "metadata": {
    "collapsed": true
   },
   "outputs": [],
   "source": [
    "import numpy as np\n",
    "from itertools import combinations\n",
    "from sklearn import svm\n",
    "from scipy.stats import mode"
   ]
  },
  {
   "cell_type": "markdown",
   "metadata": {},
   "source": [
    "## Multi class classifier \n",
    "### Option One-vs-One (Example taken from Support Vector Machine Succintly"
   ]
  },
  {
   "cell_type": "code",
   "execution_count": 2,
   "metadata": {
    "collapsed": true
   },
   "outputs": [],
   "source": [
    "# Load some example\n",
    "def load_X():\n",
    "    return np.array([[1, 6], [1, 7], [2, 5], [2, 8],[4, 2], [4, 3], [5, 1], [5, 2],[5, 3], [6, 1], [6, 2], [9, 4],[9, 7], [10, 5], [10, 6], [11, 6],[5, 9], [5, 10], [5, 11],[6, 9],[6, 10], [7, 10], [8, 11]]) \n",
    "\n",
    "def load_y():\n",
    "    return np.array([1, 1, 1, 1,2, 2, 2, 2, 2, 2, 2,3, 3, 3, 3, 3,4, 4, 4, 4, 4, 4, 4]) "
   ]
  },
  {
   "cell_type": "code",
   "execution_count": 3,
   "metadata": {},
   "outputs": [
    {
     "data": {
      "text/plain": [
       "((23, 2), (23,))"
      ]
     },
     "execution_count": 3,
     "metadata": {},
     "output_type": "execute_result"
    }
   ],
   "source": [
    "y=load_y()\n",
    "y.shape\n",
    "X=load_X()\n",
    "X.shape,y.shape"
   ]
  },
  {
   "cell_type": "code",
   "execution_count": 93,
   "metadata": {
    "collapsed": true
   },
   "outputs": [],
   "source": [
    "# One-vs-one classifier steps\n",
    "# 1:Training data set preparation - \n",
    "#    Make a list of pair of classes (In order to run 1-vs-1 method)\n",
    "#    Make list of training dataset for each of pair of classes \n",
    "#\n",
    "# 2:run SVM algorithm for each training dataset and store classifiers in a list/array\n",
    "# 3:run the test case against each classifier and store results\n",
    "# 4:whatever class gets the maximum vote for those test cases are the classes we will assign\n",
    "\n",
    "#################################################################\n",
    "def predict_class(X,classifiers,pair_classes):\n",
    "    predictions=np.zeros((X.shape[0],len(classifiers)))\n",
    "    idx=0\n",
    "    for idx, clf in enumerate(classifiers):\n",
    "        class_pair=pair_classes[idx]\n",
    "        prediction=clf.predict(X)\n",
    "        predictions[:,idx]=np.where(prediction==1,class_pair[0],class_pair[1])\n",
    "    return mode(predictions,axis=1)[0].ravel().astype(int)"
   ]
  },
  {
   "cell_type": "code",
   "execution_count": 94,
   "metadata": {},
   "outputs": [
    {
     "data": {
      "text/plain": [
       "array([2, 1])"
      ]
     },
     "execution_count": 94,
     "metadata": {},
     "output_type": "execute_result"
    }
   ],
   "source": [
    "X=load_X()\n",
    "y=load_y()\n",
    "training_data=[]\n",
    "pair_classes=combinations(set(y),2)\n",
    "\n",
    "for pair_class in pair_classes:\n",
    "    mask_class = np.where((y==pair_class[0])|(y==pair_class[1]))\n",
    "    y_i=np.where(y[mask_class]==pair_class[0],1,-1)\n",
    "    training_data.append((X[mask_class],y_i))\n",
    "    \n",
    "classifiers=[]\n",
    "\n",
    "for data in training_data:\n",
    "    clf=svm.SVC(kernel='linear',C=1000)\n",
    "    clf.fit(data[0],data[1])\n",
    "    classifiers.append(clf)\n",
    "\n",
    "X_test=np.array([[5,5],[2,5]])\n",
    "pair_classes=list(combinations(set(y),2))\n",
    "predict_class(X_test,classifiers,pair_classes)"
   ]
  },
  {
   "cell_type": "code",
   "execution_count": 74,
   "metadata": {},
   "outputs": [
    {
     "data": {
      "text/plain": [
       "[(1, 2), (1, 3), (1, 4), (2, 3), (2, 4), (3, 4)]"
      ]
     },
     "execution_count": 74,
     "metadata": {},
     "output_type": "execute_result"
    }
   ],
   "source": [
    "#a= set(np.array([1,1,1,2,2,2,2,3,3,3,4,4,4]))\n",
    "#a=set(y)\n",
    "pair_classes=list(combinations(set(y),2))\n",
    "#b=combinations(a,2)\n",
    "#for i in pair_classes:\n",
    "#    print(i)\n",
    "pair_classes"
   ]
  },
  {
   "cell_type": "code",
   "execution_count": 259,
   "metadata": {},
   "outputs": [
    {
     "name": "stdout",
     "output_type": "stream",
     "text": [
      "1\n",
      "1\n",
      "2\n"
     ]
    }
   ],
   "source": [
    "x=set(np.array([1,1,1,2,2,2,2,3,3,3,]))\n",
    "i=combinations(x,2)\n",
    "type(i)\n",
    "for j in i:\n",
    "    print(j[0])"
   ]
  },
  {
   "cell_type": "code",
   "execution_count": 250,
   "metadata": {
    "collapsed": true
   },
   "outputs": [],
   "source": [
    "## Calculate Functional Margin of Data set D (Training set)\n",
    "def example_functional_margin(w,b,x,y):\n",
    "    norm=np.linalg.norm(w)\n",
    "    result = y*(np.dot(w/norm,x)+b/norm)\n",
    "    return result\n",
    "\n",
    "def functional_margin(w,b,X,y):\n",
    "    return np.min([example_functional_margin(w,b,x,y[i-1]) for i,x in enumerate(X)])"
   ]
  },
  {
   "cell_type": "code",
   "execution_count": 251,
   "metadata": {
    "collapsed": true
   },
   "outputs": [],
   "source": [
    "# Rescaling demonstration and refer to the note also in the note book\n",
    "x= np.array([[1,1]])\n",
    "y=np.array([1])\n",
    "b_1=5\n",
    "w_1=np.array([2,1])\n",
    "b_2=b_1*10\n",
    "w_2=w_1*10"
   ]
  },
  {
   "cell_type": "code",
   "execution_count": 74,
   "metadata": {},
   "outputs": [
    {
     "name": "stdout",
     "output_type": "stream",
     "text": [
      "3.577708764\n"
     ]
    }
   ],
   "source": [
    "print(functional_margin(w_2,b_2,x,y))"
   ]
  },
  {
   "cell_type": "code",
   "execution_count": null,
   "metadata": {
    "collapsed": true
   },
   "outputs": [],
   "source": []
  },
  {
   "cell_type": "code",
   "execution_count": null,
   "metadata": {
    "collapsed": true
   },
   "outputs": [],
   "source": []
  }
 ],
 "metadata": {
  "kernelspec": {
   "display_name": "Python 3",
   "language": "python",
   "name": "python3"
  },
  "language_info": {
   "codemirror_mode": {
    "name": "ipython",
    "version": 3
   },
   "file_extension": ".py",
   "mimetype": "text/x-python",
   "name": "python",
   "nbconvert_exporter": "python",
   "pygments_lexer": "ipython3",
   "version": "3.6.2"
  }
 },
 "nbformat": 4,
 "nbformat_minor": 2
}
