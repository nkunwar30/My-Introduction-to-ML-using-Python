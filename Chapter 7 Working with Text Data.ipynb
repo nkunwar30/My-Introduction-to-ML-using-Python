{
 "cells": [
  {
   "cell_type": "code",
   "execution_count": 1,
   "metadata": {
    "collapsed": true
   },
   "outputs": [],
   "source": [
    "import numpy as np\n",
    "import tarfile\n",
    "import sys"
   ]
  },
  {
   "cell_type": "code",
   "execution_count": 2,
   "metadata": {
    "collapsed": true
   },
   "outputs": [],
   "source": [
    "from sklearn import cluster"
   ]
  },
  {
   "cell_type": "code",
   "execution_count": 3,
   "metadata": {
    "collapsed": true
   },
   "outputs": [],
   "source": [
    "#%env\n",
    "from sklearn.datasets import load_files\n"
   ]
  },
  {
   "cell_type": "code",
   "execution_count": 4,
   "metadata": {},
   "outputs": [
    {
     "data": {
      "text/plain": [
       "'C:\\\\Users\\\\Niraj Kumar\\\\Anaconda3\\\\python.exe'"
      ]
     },
     "execution_count": 4,
     "metadata": {},
     "output_type": "execute_result"
    }
   ],
   "source": [
    "sys.executable"
   ]
  },
  {
   "cell_type": "code",
   "execution_count": 219,
   "metadata": {},
   "outputs": [],
   "source": [
    "import mglearn1"
   ]
  },
  {
   "cell_type": "code",
   "execution_count": 6,
   "metadata": {
    "collapsed": true
   },
   "outputs": [],
   "source": [
    "import matplotlib.pyplot as plt\n",
    "%matplotlib inline"
   ]
  },
  {
   "cell_type": "markdown",
   "metadata": {},
   "source": [
    "# Working with Text\n",
    "- Learn about email whether Legitimate or SPAM\n",
    "- Learn about politician about certain topic (speeches, tweets etc.)\n",
    "- Customer calling --> Complain or Enquiry\n",
    "\n",
    "** Text Data different from Numerical data as we have learned before **\n",
    "\n",
    "## <span style='color:red'>4 types of STRING data</span>\n",
    "- Categorical data\n",
    "- Free strings that can be semantically mapped to categories\n",
    "- Structured String data\n",
    "- Text Data\n",
    "\n",
    "## <span style='color:brown'>Representing Text Data as a Bag of Words</span>\n",
    "- One of the many effective ways to represent TEXT for machine learning (bag-of-the-words) representation\n",
    "- Bag of words ==> disregarding any structure in a TEXT such as section, paragraph etc..Focus only on words . SO bag of Words\n",
    "\n",
    "## Computing bag-of-words representation for a corpus (Dataset) of documents , steps :-\n",
    "- Tokenization (Split document into words)\n",
    "- Vocabulary Building (Vocabulary of words in any of the documents and number them ..alphabetically)\n",
    "- Encoding (For each document, count how often each of the words in vocabulary appear)\n",
    "\n",
    "## Applying bag-of-words to a Toy Dataset"
   ]
  },
  {
   "cell_type": "code",
   "execution_count": 7,
   "metadata": {
    "collapsed": true
   },
   "outputs": [],
   "source": [
    "barb_words=['The fool doth think he is wise','but the wise man knows himself to be a fool']"
   ]
  },
  {
   "cell_type": "code",
   "execution_count": 8,
   "metadata": {
    "collapsed": true
   },
   "outputs": [],
   "source": [
    "from sklearn.feature_extraction.text import CountVectorizer"
   ]
  },
  {
   "cell_type": "code",
   "execution_count": 9,
   "metadata": {
    "collapsed": true
   },
   "outputs": [],
   "source": [
    "vect=CountVectorizer()"
   ]
  },
  {
   "cell_type": "code",
   "execution_count": 10,
   "metadata": {},
   "outputs": [
    {
     "data": {
      "text/plain": [
       "CountVectorizer(analyzer='word', binary=False, decode_error='strict',\n",
       "        dtype=<class 'numpy.int64'>, encoding='utf-8', input='content',\n",
       "        lowercase=True, max_df=1.0, max_features=None, min_df=1,\n",
       "        ngram_range=(1, 1), preprocessor=None, stop_words=None,\n",
       "        strip_accents=None, token_pattern='(?u)\\\\b\\\\w\\\\w+\\\\b',\n",
       "        tokenizer=None, vocabulary=None)"
      ]
     },
     "execution_count": 10,
     "metadata": {},
     "output_type": "execute_result"
    }
   ],
   "source": [
    "vect.fit(barb_words)"
   ]
  },
  {
   "cell_type": "code",
   "execution_count": 11,
   "metadata": {},
   "outputs": [
    {
     "name": "stdout",
     "output_type": "stream",
     "text": [
      "Vocubalory :{'the': 9, 'fool': 3, 'doth': 2, 'think': 10, 'he': 4, 'is': 6, 'wise': 12, 'but': 1, 'man': 8, 'knows': 7, 'himself': 5, 'to': 11, 'be': 0}\n",
      "Vocubalory size: 13\n"
     ]
    }
   ],
   "source": [
    "print('Vocubalory :{}'.format(vect.vocabulary_))\n",
    "print('Vocubalory size: {}'.format(len(vect.vocabulary_)))"
   ]
  },
  {
   "cell_type": "code",
   "execution_count": 12,
   "metadata": {
    "collapsed": true
   },
   "outputs": [],
   "source": [
    "# To create bag of words, we run TRANSFORM\n",
    "bag_of_words= vect.transform(barb_words)"
   ]
  },
  {
   "cell_type": "code",
   "execution_count": 13,
   "metadata": {},
   "outputs": [
    {
     "name": "stdout",
     "output_type": "stream",
     "text": [
      "bag of words :\n",
      "<2x13 sparse matrix of type '<class 'numpy.int64'>'\n",
      "\twith 16 stored elements in Compressed Sparse Row format>\n"
     ]
    }
   ],
   "source": [
    "print('bag of words :\\n{}'.format(repr(bag_of_words)))"
   ]
  },
  {
   "cell_type": "code",
   "execution_count": 14,
   "metadata": {},
   "outputs": [
    {
     "name": "stdout",
     "output_type": "stream",
     "text": [
      "Densed representation of the word: \n",
      "[[0 0 1 1 1 0 1 0 0 1 1 0 1]\n",
      " [1 1 0 1 0 1 0 1 1 1 0 1 1]]\n"
     ]
    }
   ],
   "source": [
    "print('Densed representation of the word: \\n{}'.format(bag_of_words.toarray()))"
   ]
  },
  {
   "cell_type": "code",
   "execution_count": 15,
   "metadata": {
    "collapsed": true
   },
   "outputs": [],
   "source": [
    "review_train = load_files('data/aclImdb/train')"
   ]
  },
  {
   "cell_type": "code",
   "execution_count": 16,
   "metadata": {
    "collapsed": true
   },
   "outputs": [],
   "source": [
    "text_train,y_train = review_train.data,review_train.target"
   ]
  },
  {
   "cell_type": "code",
   "execution_count": 17,
   "metadata": {
    "collapsed": true
   },
   "outputs": [],
   "source": [
    "# Clean the data\n",
    "text_train=[doc.replace(b'<br />',b' ') for doc in text_train]"
   ]
  },
  {
   "cell_type": "code",
   "execution_count": 18,
   "metadata": {
    "collapsed": true
   },
   "outputs": [],
   "source": [
    "review_test = load_files('data/aclImdb/test')"
   ]
  },
  {
   "cell_type": "code",
   "execution_count": 19,
   "metadata": {},
   "outputs": [
    {
     "name": "stdout",
     "output_type": "stream",
     "text": [
      "Samples per class (training):[12500 12500]\n"
     ]
    }
   ],
   "source": [
    "print('Samples per class (training):{}'.format(np.bincount(review_test.target)))"
   ]
  },
  {
   "cell_type": "code",
   "execution_count": 20,
   "metadata": {},
   "outputs": [
    {
     "name": "stdout",
     "output_type": "stream",
     "text": [
      "no of documents in Test Set :25000\n"
     ]
    }
   ],
   "source": [
    "#Load Test Data \n",
    "text_test,y_test=review_test.data,review_test.target\n",
    "print('no of documents in Test Set :{}'.format(len(text_test)))"
   ]
  },
  {
   "cell_type": "code",
   "execution_count": 21,
   "metadata": {
    "collapsed": true
   },
   "outputs": [],
   "source": [
    "text_test=[doc.replace(b'<br />',b' ') for doc in text_test]"
   ]
  },
  {
   "cell_type": "code",
   "execution_count": 22,
   "metadata": {},
   "outputs": [
    {
     "name": "stdout",
     "output_type": "stream",
     "text": [
      "Samples per class :[12500 12500]\n"
     ]
    }
   ],
   "source": [
    "print('Samples per class :{}'.format(np.bincount(y_test)))"
   ]
  },
  {
   "cell_type": "markdown",
   "metadata": {},
   "source": [
    "# <span style='color:red'>Task Statement:-</span>\n",
    "- Classify comment either in the POSITIVE or NEGATIVE\n",
    "- Data is not the ML input data format\n",
    "- ** Convert data in the form of 'bag-of-words' **\n",
    "- Count how often each word come in a text\n",
    "\n",
    "# <span style='color:brown'> Apply Bag-of-Words for Movie Reviews</span>"
   ]
  },
  {
   "cell_type": "code",
   "execution_count": 23,
   "metadata": {
    "collapsed": true
   },
   "outputs": [],
   "source": [
    "text_train_orig=text_train\n",
    "y_train_orig=y_train"
   ]
  },
  {
   "cell_type": "code",
   "execution_count": 24,
   "metadata": {
    "collapsed": true
   },
   "outputs": [],
   "source": [
    "text_train= [text_train_orig[i] for i in np.where(y_train_orig!=2)[0]]\n",
    "y_train = [y_train_orig[i] for i in np.where(y_train_orig!=2)[0]]"
   ]
  },
  {
   "cell_type": "code",
   "execution_count": 25,
   "metadata": {
    "collapsed": true
   },
   "outputs": [],
   "source": [
    "vect = CountVectorizer().fit(text_train)"
   ]
  },
  {
   "cell_type": "code",
   "execution_count": 26,
   "metadata": {
    "collapsed": true
   },
   "outputs": [],
   "source": [
    "X_train = vect.transform(text_train)"
   ]
  },
  {
   "cell_type": "code",
   "execution_count": 27,
   "metadata": {},
   "outputs": [
    {
     "name": "stdout",
     "output_type": "stream",
     "text": [
      "X_train :\n",
      "<25000x74849 sparse matrix of type '<class 'numpy.int64'>'\n",
      "\twith 3431196 stored elements in Compressed Sparse Row format>\n"
     ]
    }
   ],
   "source": [
    "print('X_train :\\n{}'.format(repr(X_train)))"
   ]
  },
  {
   "cell_type": "code",
   "execution_count": 28,
   "metadata": {},
   "outputs": [
    {
     "data": {
      "text/plain": [
       "(25000, 74849)"
      ]
     },
     "execution_count": 28,
     "metadata": {},
     "output_type": "execute_result"
    }
   ],
   "source": [
    "X_train.shape"
   ]
  },
  {
   "cell_type": "code",
   "execution_count": 29,
   "metadata": {},
   "outputs": [
    {
     "name": "stdout",
     "output_type": "stream",
     "text": [
      "No of features :74849\n",
      "First 25 features :['00', '000', '0000000000001', '00001', '00015', '000s', '001', '003830', '006', '007', '0079', '0080', '0083', '0093638', '00am', '00pm', '00s', '01', '01pm', '02', '020410', '029', '03', '04', '041']\n",
      "Features from 25000 for 20 :['draper', 'draperies', 'drapery', 'drapes', 'draskovic', 'drastic', 'drastically', 'drat', 'dratch', 'dratic', 'dratted', 'draub', 'draught', 'draughts', 'draughtswoman', 'draw', 'drawback', 'drawbacks', 'drawer', 'drawers']\n",
      "Features after every 2500 items :['00', 'albert', 'augustine', 'bitten', 'bête', 'cinmea', 'cost', 'dempster', 'draper', 'espouse', 'fleece', 'gillmore', 'hasan', 'idolizes', 'jardine', 'laggard', 'maars', 'meyerling', 'nathaniel', 'outlandish', 'pincher', 'pulpits', 'replica', 'sarducci', 'shunning', 'sprinkling', 'swordmen', 'totalitarism', 'unproven', 'weighting']\n"
     ]
    }
   ],
   "source": [
    "feature_names=vect.get_feature_names()\n",
    "print('No of features :{}'.format(len(feature_names)))\n",
    "print('First 25 features :{}'.format(feature_names[:25]))\n",
    "print('Features from 25000 for 20 :{}'.format(feature_names[20000:20020]))\n",
    "print('Features after every 2500 items :{}'.format(feature_names[::2500]))"
   ]
  },
  {
   "cell_type": "markdown",
   "metadata": {},
   "source": [
    "## Train the model before feature improvement\n",
    "- LogisticRegression for such high dimensional data is ideal"
   ]
  },
  {
   "cell_type": "code",
   "execution_count": 30,
   "metadata": {
    "collapsed": true
   },
   "outputs": [],
   "source": [
    "from sklearn.model_selection import cross_val_score\n",
    "from sklearn.linear_model import LogisticRegression"
   ]
  },
  {
   "cell_type": "code",
   "execution_count": 31,
   "metadata": {
    "collapsed": true
   },
   "outputs": [],
   "source": [
    "scores=cross_val_score(LogisticRegression(),X_train,y_train,cv=5)"
   ]
  },
  {
   "cell_type": "code",
   "execution_count": 32,
   "metadata": {},
   "outputs": [
    {
     "name": "stdout",
     "output_type": "stream",
     "text": [
      "Mean cross validation score :0.88\n"
     ]
    }
   ],
   "source": [
    "print('Mean cross validation score :{:.2f}'.format(np.mean(scores )))"
   ]
  },
  {
   "cell_type": "code",
   "execution_count": 33,
   "metadata": {
    "collapsed": true
   },
   "outputs": [],
   "source": [
    "from sklearn.model_selection import GridSearchCV"
   ]
  },
  {
   "cell_type": "code",
   "execution_count": 34,
   "metadata": {
    "collapsed": true
   },
   "outputs": [],
   "source": [
    "# C parameters of Logistics Regression \n",
    "param_grid={'C':[0.001,0.01,0.1,1,10]}"
   ]
  },
  {
   "cell_type": "code",
   "execution_count": 35,
   "metadata": {
    "collapsed": true
   },
   "outputs": [],
   "source": [
    "grid=GridSearchCV(LogisticRegression(),param_grid=param_grid,cv=5)"
   ]
  },
  {
   "cell_type": "code",
   "execution_count": 36,
   "metadata": {},
   "outputs": [
    {
     "data": {
      "text/plain": [
       "GridSearchCV(cv=5, error_score='raise',\n",
       "       estimator=LogisticRegression(C=1.0, class_weight=None, dual=False, fit_intercept=True,\n",
       "          intercept_scaling=1, max_iter=100, multi_class='ovr', n_jobs=1,\n",
       "          penalty='l2', random_state=None, solver='liblinear', tol=0.0001,\n",
       "          verbose=0, warm_start=False),\n",
       "       fit_params=None, iid=True, n_jobs=1,\n",
       "       param_grid={'C': [0.001, 0.01, 0.1, 1, 10]},\n",
       "       pre_dispatch='2*n_jobs', refit=True, return_train_score='warn',\n",
       "       scoring=None, verbose=0)"
      ]
     },
     "execution_count": 36,
     "metadata": {},
     "output_type": "execute_result"
    }
   ],
   "source": [
    "grid.fit(X_train,y_train)"
   ]
  },
  {
   "cell_type": "code",
   "execution_count": 37,
   "metadata": {},
   "outputs": [
    {
     "name": "stdout",
     "output_type": "stream",
     "text": [
      "best parameters :{'C': 0.1}\n"
     ]
    }
   ],
   "source": [
    "print('best parameters :{}'.format(grid.best_params_))"
   ]
  },
  {
   "cell_type": "code",
   "execution_count": 38,
   "metadata": {},
   "outputs": [
    {
     "name": "stdout",
     "output_type": "stream",
     "text": [
      "Best Score :0.89\n"
     ]
    }
   ],
   "source": [
    "print('Best Score :{:.2f}'.format(grid.best_score_))"
   ]
  },
  {
   "cell_type": "code",
   "execution_count": 39,
   "metadata": {
    "collapsed": true
   },
   "outputs": [],
   "source": [
    "X_test = vect.transform(text_test)"
   ]
  },
  {
   "cell_type": "code",
   "execution_count": 40,
   "metadata": {},
   "outputs": [
    {
     "name": "stdout",
     "output_type": "stream",
     "text": [
      "Test score :0.88\n"
     ]
    }
   ],
   "source": [
    "print('Test score :{:.2f}'.format(grid.score(X_test,y_test)))"
   ]
  },
  {
   "cell_type": "markdown",
   "metadata": {
    "collapsed": true
   },
   "source": [
    "# <span style='color:red'>Use words those are at least repeating in each document</span>"
   ]
  },
  {
   "cell_type": "code",
   "execution_count": 41,
   "metadata": {
    "collapsed": true
   },
   "outputs": [],
   "source": [
    "vect=CountVectorizer(min_df=5).fit(text_train)"
   ]
  },
  {
   "cell_type": "code",
   "execution_count": 42,
   "metadata": {
    "collapsed": true
   },
   "outputs": [],
   "source": [
    "X_train=vect.transform(text_train)"
   ]
  },
  {
   "cell_type": "code",
   "execution_count": 43,
   "metadata": {},
   "outputs": [
    {
     "name": "stdout",
     "output_type": "stream",
     "text": [
      "X_train with min_df: <25000x27271 sparse matrix of type '<class 'numpy.int64'>'\n",
      "\twith 3354014 stored elements in Compressed Sparse Row format>\n"
     ]
    }
   ],
   "source": [
    "print('X_train with min_df: {}'.format(repr(X_train)))"
   ]
  },
  {
   "cell_type": "code",
   "execution_count": 44,
   "metadata": {
    "collapsed": true
   },
   "outputs": [],
   "source": [
    "feature_names=vect.get_feature_names()"
   ]
  },
  {
   "cell_type": "code",
   "execution_count": 45,
   "metadata": {},
   "outputs": [
    {
     "name": "stdout",
     "output_type": "stream",
     "text": [
      "Features in top 25 ['00', '000', '007', '00s', '01', '02', '03', '04', '05', '06', '07', '08', '09', '10', '100', '1000', '100th', '101', '102', '103', '104', '105', '107', '108', '10s']\n",
      "Features in 20000 to 20050 ['repartee', 'repay', 'repeat', 'repeated', 'repeatedly', 'repeating', 'repeats', 'repelled', 'repellent', 'repent', 'repentance', 'repercussions', 'repertoire', 'repetition', 'repetitions', 'repetitious', 'repetitive', 'rephrase', 'replace', 'replaced', 'replacement', 'replaces', 'replacing', 'replay', 'replayable', 'replayed', 'replaying', 'replays', 'replete', 'replica', 'replicas', 'replicate', 'replied', 'replies', 'reply', 'repo', 'report', 'reported', 'reportedly', 'reporter', 'reporters', 'reporting', 'reports', 'reprehensible', 'represent', 'representation', 'representations', 'representative', 'representatives', 'represented']\n"
     ]
    }
   ],
   "source": [
    "print('Features in top 25 {}'.format(feature_names[:25]))\n",
    "print('Features in 20000 to 20050 {}'.format(feature_names[20000:20050]))"
   ]
  },
  {
   "cell_type": "code",
   "execution_count": 46,
   "metadata": {
    "collapsed": true
   },
   "outputs": [],
   "source": [
    "grid=GridSearchCV(LogisticRegression(),param_grid=param_grid,cv=5)"
   ]
  },
  {
   "cell_type": "code",
   "execution_count": 47,
   "metadata": {},
   "outputs": [
    {
     "name": "stdout",
     "output_type": "stream",
     "text": [
      "best cross validation score is :0.89\n"
     ]
    }
   ],
   "source": [
    "grid.fit(X_train,y_train)\n",
    "print('best cross validation score is :{:.2f}'.format(grid.best_score_))"
   ]
  },
  {
   "cell_type": "markdown",
   "metadata": {},
   "source": [
    "# <span style:'color:blue'>Use Stop words from SCIKIT LEARN</span>"
   ]
  },
  {
   "cell_type": "code",
   "execution_count": 48,
   "metadata": {
    "collapsed": true
   },
   "outputs": [],
   "source": [
    "vect=CountVectorizer(min_df=5,stop_words='english').fit(text_train)"
   ]
  },
  {
   "cell_type": "code",
   "execution_count": 49,
   "metadata": {
    "collapsed": true
   },
   "outputs": [],
   "source": [
    "X_train=vect.transform(text_train)"
   ]
  },
  {
   "cell_type": "code",
   "execution_count": 50,
   "metadata": {},
   "outputs": [
    {
     "name": "stdout",
     "output_type": "stream",
     "text": [
      "X_train with stop words:<25000x26966 sparse matrix of type '<class 'numpy.int64'>'\n",
      "\twith 2149958 stored elements in Compressed Sparse Row format>\n"
     ]
    }
   ],
   "source": [
    "print('X_train with stop words:{}'.format(repr(X_train)))"
   ]
  },
  {
   "cell_type": "code",
   "execution_count": 51,
   "metadata": {
    "collapsed": true
   },
   "outputs": [],
   "source": [
    "grid=GridSearchCV(LogisticRegression(),param_grid=param_grid,cv=5)"
   ]
  },
  {
   "cell_type": "code",
   "execution_count": 52,
   "metadata": {},
   "outputs": [
    {
     "data": {
      "text/plain": [
       "GridSearchCV(cv=5, error_score='raise',\n",
       "       estimator=LogisticRegression(C=1.0, class_weight=None, dual=False, fit_intercept=True,\n",
       "          intercept_scaling=1, max_iter=100, multi_class='ovr', n_jobs=1,\n",
       "          penalty='l2', random_state=None, solver='liblinear', tol=0.0001,\n",
       "          verbose=0, warm_start=False),\n",
       "       fit_params=None, iid=True, n_jobs=1,\n",
       "       param_grid={'C': [0.001, 0.01, 0.1, 1, 10]},\n",
       "       pre_dispatch='2*n_jobs', refit=True, return_train_score='warn',\n",
       "       scoring=None, verbose=0)"
      ]
     },
     "execution_count": 52,
     "metadata": {},
     "output_type": "execute_result"
    }
   ],
   "source": [
    "grid.fit(X_train,y_train)"
   ]
  },
  {
   "cell_type": "code",
   "execution_count": 53,
   "metadata": {},
   "outputs": [
    {
     "name": "stdout",
     "output_type": "stream",
     "text": [
      "Best crosss validation score with Stop Word :0.88\n"
     ]
    }
   ],
   "source": [
    "print('Best crosss validation score with Stop Word :{:.2f}'.format(grid.best_score_))"
   ]
  },
  {
   "cell_type": "markdown",
   "metadata": {},
   "source": [
    "# Discarding frequently appearing word , using max_df "
   ]
  },
  {
   "cell_type": "code",
   "execution_count": 54,
   "metadata": {
    "collapsed": true
   },
   "outputs": [],
   "source": [
    "vect=CountVectorizer(min_df=5,max_df=20).fit(text_train)"
   ]
  },
  {
   "cell_type": "code",
   "execution_count": 55,
   "metadata": {
    "collapsed": true
   },
   "outputs": [],
   "source": [
    "X_train=vect.transform(text_train)"
   ]
  },
  {
   "cell_type": "code",
   "execution_count": 56,
   "metadata": {
    "collapsed": true
   },
   "outputs": [],
   "source": [
    "grid=GridSearchCV(LogisticRegression(),param_grid=param_grid,cv=5)"
   ]
  },
  {
   "cell_type": "code",
   "execution_count": 57,
   "metadata": {},
   "outputs": [
    {
     "data": {
      "text/plain": [
       "GridSearchCV(cv=5, error_score='raise',\n",
       "       estimator=LogisticRegression(C=1.0, class_weight=None, dual=False, fit_intercept=True,\n",
       "          intercept_scaling=1, max_iter=100, multi_class='ovr', n_jobs=1,\n",
       "          penalty='l2', random_state=None, solver='liblinear', tol=0.0001,\n",
       "          verbose=0, warm_start=False),\n",
       "       fit_params=None, iid=True, n_jobs=1,\n",
       "       param_grid={'C': [0.001, 0.01, 0.1, 1, 10]},\n",
       "       pre_dispatch='2*n_jobs', refit=True, return_train_score='warn',\n",
       "       scoring=None, verbose=0)"
      ]
     },
     "execution_count": 57,
     "metadata": {},
     "output_type": "execute_result"
    }
   ],
   "source": [
    "grid.fit(X_train,y_train)"
   ]
  },
  {
   "cell_type": "code",
   "execution_count": 58,
   "metadata": {},
   "outputs": [
    {
     "name": "stdout",
     "output_type": "stream",
     "text": [
      "best cross validation score :0.69\n"
     ]
    }
   ],
   "source": [
    "print('best cross validation score :{:.2f}'.format(grid.best_score_))"
   ]
  },
  {
   "cell_type": "code",
   "execution_count": 59,
   "metadata": {},
   "outputs": [
    {
     "name": "stdout",
     "output_type": "stream",
     "text": [
      "X_train with min and max frequency words as 5 and 20 :<25000x15505 sparse matrix of type '<class 'numpy.int64'>'\n",
      "\twith 152480 stored elements in Compressed Sparse Row format>\n"
     ]
    }
   ],
   "source": [
    "print('X_train with min and max frequency words as 5 and 20 :{}'.format(repr(X_train)))"
   ]
  },
  {
   "cell_type": "markdown",
   "metadata": {},
   "source": [
    "# <span style='color:green'>Rescaling with TF-IDF </span>\n",
    "- tfidf(w,d)= tf*log$\\frac{N+1}{N_w+1}$+1 (The TF-IDF score of word w in document d)\n",
    "- Use either TfidfTransformer or TfidfVectorizer"
   ]
  },
  {
   "cell_type": "code",
   "execution_count": 60,
   "metadata": {
    "collapsed": true
   },
   "outputs": [],
   "source": [
    "from sklearn.feature_extraction.text import TfidfVectorizer\n",
    "from sklearn.pipeline import make_pipeline"
   ]
  },
  {
   "cell_type": "code",
   "execution_count": 61,
   "metadata": {
    "collapsed": true
   },
   "outputs": [],
   "source": [
    "pipe=make_pipeline(TfidfVectorizer(min_df=5,norm=None),LogisticRegression())"
   ]
  },
  {
   "cell_type": "code",
   "execution_count": 62,
   "metadata": {
    "collapsed": true
   },
   "outputs": [],
   "source": [
    "param_grid={'logisticregression__C':[0.001,0.01,0.1,1,10]}"
   ]
  },
  {
   "cell_type": "code",
   "execution_count": 63,
   "metadata": {
    "collapsed": true
   },
   "outputs": [],
   "source": [
    "grid=GridSearchCV(pipe,param_grid=param_grid,cv=5)"
   ]
  },
  {
   "cell_type": "code",
   "execution_count": 64,
   "metadata": {},
   "outputs": [
    {
     "data": {
      "text/plain": [
       "GridSearchCV(cv=5, error_score='raise',\n",
       "       estimator=Pipeline(memory=None,\n",
       "     steps=[('tfidfvectorizer', TfidfVectorizer(analyzer='word', binary=False, decode_error='strict',\n",
       "        dtype=<class 'numpy.int64'>, encoding='utf-8', input='content',\n",
       "        lowercase=True, max_df=1.0, max_features=None, min_df=5,\n",
       "        ngram_range=(1, 1), norm=None, preprocessor=None, smooth_i...ty='l2', random_state=None, solver='liblinear', tol=0.0001,\n",
       "          verbose=0, warm_start=False))]),\n",
       "       fit_params=None, iid=True, n_jobs=1,\n",
       "       param_grid={'logisticregression__C': [0.001, 0.01, 0.1, 1, 10]},\n",
       "       pre_dispatch='2*n_jobs', refit=True, return_train_score='warn',\n",
       "       scoring=None, verbose=0)"
      ]
     },
     "execution_count": 64,
     "metadata": {},
     "output_type": "execute_result"
    }
   ],
   "source": [
    "grid.fit(text_train,y_train)"
   ]
  },
  {
   "cell_type": "code",
   "execution_count": 65,
   "metadata": {},
   "outputs": [
    {
     "name": "stdout",
     "output_type": "stream",
     "text": [
      "best cross validation score :0.89\n"
     ]
    }
   ],
   "source": [
    "print('best cross validation score :{:.2f}'.format(grid.best_score_))"
   ]
  },
  {
   "cell_type": "markdown",
   "metadata": {},
   "source": [
    "## Which words in tf-idf found most important"
   ]
  },
  {
   "cell_type": "code",
   "execution_count": 66,
   "metadata": {
    "collapsed": true
   },
   "outputs": [],
   "source": [
    "# Extract TfidfVectorizer from the pipeline\n",
    "vectorizer = grid.best_estimator_.named_steps['tfidfvectorizer']"
   ]
  },
  {
   "cell_type": "code",
   "execution_count": 67,
   "metadata": {
    "collapsed": true
   },
   "outputs": [],
   "source": [
    "X_train=vectorizer.transform(text_train)"
   ]
  },
  {
   "cell_type": "code",
   "execution_count": 68,
   "metadata": {
    "collapsed": true
   },
   "outputs": [],
   "source": [
    "max_value=X_train.max(axis=0).toarray().ravel()"
   ]
  },
  {
   "cell_type": "code",
   "execution_count": 69,
   "metadata": {},
   "outputs": [
    {
     "data": {
      "text/plain": [
       "array([20.15985557, 34.37105041, 16.70816476, ..., 25.46284132,\n",
       "       28.0047349 ,  9.33491163])"
      ]
     },
     "execution_count": 69,
     "metadata": {},
     "output_type": "execute_result"
    }
   ],
   "source": [
    "max_value"
   ]
  },
  {
   "cell_type": "code",
   "execution_count": 70,
   "metadata": {
    "collapsed": true
   },
   "outputs": [],
   "source": [
    "sorted_by_tfidf=max_value.argsort()"
   ]
  },
  {
   "cell_type": "code",
   "execution_count": 71,
   "metadata": {},
   "outputs": [
    {
     "data": {
      "text/plain": [
       "array([18279,  6912, 12631, ..., 20518, 24586, 24618], dtype=int64)"
      ]
     },
     "execution_count": 71,
     "metadata": {},
     "output_type": "execute_result"
    }
   ],
   "source": [
    "sorted_by_tfidf"
   ]
  },
  {
   "cell_type": "code",
   "execution_count": 72,
   "metadata": {
    "collapsed": true
   },
   "outputs": [],
   "source": [
    "# Get Features names\n",
    "feature_names=np.array(vectorizer.get_feature_names())"
   ]
  },
  {
   "cell_type": "code",
   "execution_count": 73,
   "metadata": {},
   "outputs": [
    {
     "name": "stdout",
     "output_type": "stream",
     "text": [
      "features with lowest TFIDF are :\n",
      "[18279  6912 12631 12201 13740 16814  5958  1007 16310 25470  6901  9558\n",
      " 23174  1865  8080  4884  6923 19540  7403 12263]\n"
     ]
    }
   ],
   "source": [
    "print('features with lowest TFIDF are :\\n{}'.format(sorted_by_tfidf[:20]))"
   ]
  },
  {
   "cell_type": "code",
   "execution_count": 74,
   "metadata": {},
   "outputs": [
    {
     "name": "stdout",
     "output_type": "stream",
     "text": [
      "features with highest TFIDF is :\n",
      "[ 5435 11658  6844 10918  9983 23984 14641 25915 13142  2177  7296 24346\n",
      " 26062  3196 26063 13493 27245 20518 24586 24618]\n"
     ]
    }
   ],
   "source": [
    "print('features with highest TFIDF is :\\n{}'.format(sorted_by_tfidf[-20:]))"
   ]
  },
  {
   "cell_type": "code",
   "execution_count": 75,
   "metadata": {},
   "outputs": [
    {
     "name": "stdout",
     "output_type": "stream",
     "text": [
      "features with lowest TFIDF : \n",
      "['poignant' 'disagree' 'instantly' 'importantly' 'lacked' 'occurred'\n",
      " 'currently' 'altogether' 'nearby' 'undoubtedly' 'directs' 'fond'\n",
      " 'stinker' 'avoided' 'emphasis' 'commented' 'disappoint' 'realizing'\n",
      " 'downhill' 'inane']\n"
     ]
    }
   ],
   "source": [
    "# Get the list of Features that occur Frequently or IDF\n",
    "sorted_by_idf = np.argsort(vectorizer.idf_)\n",
    "print('features with lowest TFIDF : \\n{}'.format(feature_names[sorted_by_tfidf[:20]]))"
   ]
  },
  {
   "cell_type": "code",
   "execution_count": 76,
   "metadata": {},
   "outputs": [
    {
     "name": "stdout",
     "output_type": "stream",
     "text": [
      "feature with highest TFIDF :\n",
      "['europa' 'angle' 'luzhin' 'ripley' 'cal' 'blob' 'paulie' 'dev'\n",
      " 'kornbluth' 'roy' 'coop' 'homer' 'dillinger' 'hackenstein' 'gadget'\n",
      " 'taker' 'macarthur' 'vargas' 'jesse' 'basket' 'dominick' 'the' 'victor'\n",
      " 'bridget' 'victoria' 'khouri' 'zizek' 'rob' 'timon' 'titanic']\n"
     ]
    }
   ],
   "source": [
    "print('feature with highest TFIDF :\\n{}'.format(feature_names[sorted_by_tfidf[-30:]]))"
   ]
  },
  {
   "cell_type": "markdown",
   "metadata": {},
   "source": [
    "# IDF list : words coming in the docs very frequently --> low IDF\n"
   ]
  },
  {
   "cell_type": "code",
   "execution_count": 77,
   "metadata": {},
   "outputs": [
    {
     "name": "stdout",
     "output_type": "stream",
     "text": [
      "Features with LOWEST IDF :\n",
      "['the' 'and' 'of' 'to' 'this' 'is' 'it' 'in' 'that' 'but' 'for' 'with'\n",
      " 'was' 'as' 'on' 'movie' 'not' 'have' 'one' 'be']\n"
     ]
    }
   ],
   "source": [
    "sorted_by_idf=np.argsort(vectorizer.idf_)\n",
    "print('Features with LOWEST IDF :\\n{}'.format(feature_names[sorted_by_idf[:20]]))"
   ]
  },
  {
   "cell_type": "code",
   "execution_count": 78,
   "metadata": {},
   "outputs": [
    {
     "data": {
      "image/png": "[encoded data removed]",
      "text/plain": [
       "<Figure size 1080x360 with 1 Axes>"
      ]
     },
     "metadata": {},
     "output_type": "display_data"
    }
   ],
   "source": [
    "mglearn1.tools.visualize_coefficients(grid.best_estimator_.named_steps['logisticregression'].coef_[0],\n",
    "                                      feature_names,n_top_features=40)"
   ]
  },
  {
   "cell_type": "markdown",
   "metadata": {},
   "source": [
    "# Bag-of_words with more tha one word (n-Grams)\n",
    "- This helps in contextualizaing the sentences\n",
    "- we can vary from 1 term as 1-gram to n-grams (Its about taking words in sequnces as features)\n",
    "- Example"
   ]
  },
  {
   "cell_type": "code",
   "execution_count": 79,
   "metadata": {},
   "outputs": [
    {
     "data": {
      "text/plain": [
       "['The fool doth think he is wise',\n",
       " 'but the wise man knows himself to be a fool']"
      ]
     },
     "execution_count": 79,
     "metadata": {},
     "output_type": "execute_result"
    }
   ],
   "source": [
    "# With example/toy dataset\n",
    "barb_words"
   ]
  },
  {
   "cell_type": "code",
   "execution_count": 80,
   "metadata": {
    "collapsed": true
   },
   "outputs": [],
   "source": [
    "cv=CountVectorizer(ngram_range=(1,1)).fit(barb_words)"
   ]
  },
  {
   "cell_type": "code",
   "execution_count": 81,
   "metadata": {},
   "outputs": [
    {
     "name": "stdout",
     "output_type": "stream",
     "text": [
      "vocabulary :{'the': 9, 'fool': 3, 'doth': 2, 'think': 10, 'he': 4, 'is': 6, 'wise': 12, 'but': 1, 'man': 8, 'knows': 7, 'himself': 5, 'to': 11, 'be': 0}\n",
      "Vocabulary size:13\n"
     ]
    }
   ],
   "source": [
    "print('vocabulary :{}'.format(cv.vocabulary_))\n",
    "print('Vocabulary size:{}'.format(len(cv.vocabulary_)))"
   ]
  },
  {
   "cell_type": "code",
   "execution_count": 82,
   "metadata": {
    "collapsed": true
   },
   "outputs": [],
   "source": [
    "cv=CountVectorizer(ngram_range=(2,2)).fit(barb_words)"
   ]
  },
  {
   "cell_type": "code",
   "execution_count": 83,
   "metadata": {},
   "outputs": [
    {
     "name": "stdout",
     "output_type": "stream",
     "text": [
      "vocabulary :{'the fool': 9, 'fool doth': 3, 'doth think': 2, 'think he': 11, 'he is': 4, 'is wise': 6, 'but the': 1, 'the wise': 10, 'wise man': 13, 'man knows': 8, 'knows himself': 7, 'himself to': 5, 'to be': 12, 'be fool': 0}\n",
      "Vocabulary size:14\n"
     ]
    }
   ],
   "source": [
    "print('vocabulary :{}'.format(cv.vocabulary_))\n",
    "print('Vocabulary size:{}'.format(len(cv.vocabulary_)))"
   ]
  },
  {
   "cell_type": "code",
   "execution_count": 84,
   "metadata": {},
   "outputs": [
    {
     "data": {
      "text/plain": [
       "array([[0, 0, 1, 1, 1, 0, 1, 0, 0, 1, 0, 1, 0, 0],\n",
       "       [1, 1, 0, 0, 0, 1, 0, 1, 1, 0, 1, 0, 1, 1]], dtype=int64)"
      ]
     },
     "execution_count": 84,
     "metadata": {},
     "output_type": "execute_result"
    }
   ],
   "source": [
    "cv.transform(barb_words).toarray()"
   ]
  },
  {
   "cell_type": "code",
   "execution_count": 85,
   "metadata": {
    "collapsed": true
   },
   "outputs": [],
   "source": [
    "cv=CountVectorizer(ngram_range=(1,3)).fit(barb_words)"
   ]
  },
  {
   "cell_type": "code",
   "execution_count": 86,
   "metadata": {},
   "outputs": [
    {
     "name": "stdout",
     "output_type": "stream",
     "text": [
      "vocabulary :{'the': 25, 'fool': 8, 'doth': 5, 'think': 30, 'he': 11, 'is': 17, 'wise': 36, 'the fool': 26, 'fool doth': 9, 'doth think': 6, 'think he': 31, 'he is': 12, 'is wise': 18, 'the fool doth': 27, 'fool doth think': 10, 'doth think he': 7, 'think he is': 32, 'he is wise': 13, 'but': 2, 'man': 22, 'knows': 19, 'himself': 14, 'to': 33, 'be': 0, 'but the': 3, 'the wise': 28, 'wise man': 37, 'man knows': 23, 'knows himself': 20, 'himself to': 15, 'to be': 34, 'be fool': 1, 'but the wise': 4, 'the wise man': 29, 'wise man knows': 38, 'man knows himself': 24, 'knows himself to': 21, 'himself to be': 16, 'to be fool': 35}\n",
      "Vocabulary size:39\n"
     ]
    }
   ],
   "source": [
    "print('vocabulary :{}'.format(cv.vocabulary_))\n",
    "print('Vocabulary size:{}'.format(len(cv.vocabulary_)))\n"
   ]
  },
  {
   "cell_type": "markdown",
   "metadata": {},
   "source": [
    "# <span style='color:brown'>IMDb: Apply n-gram here</span>"
   ]
  },
  {
   "cell_type": "code",
   "execution_count": 87,
   "metadata": {
    "collapsed": true
   },
   "outputs": [],
   "source": [
    "pipe=make_pipeline(TfidfVectorizer(min_df=5),LogisticRegression())"
   ]
  },
  {
   "cell_type": "code",
   "execution_count": 88,
   "metadata": {
    "collapsed": true
   },
   "outputs": [],
   "source": [
    "param_grid={'logisticregression__C':[0.001,0.01,0.1,1,10,100],'tfidfvectorizer__ngram_range':[(1,1),(1,2),(1,3)]}"
   ]
  },
  {
   "cell_type": "code",
   "execution_count": 89,
   "metadata": {
    "collapsed": true
   },
   "outputs": [],
   "source": [
    "grid=GridSearchCV(pipe,param_grid=param_grid,cv=5)"
   ]
  },
  {
   "cell_type": "code",
   "execution_count": 90,
   "metadata": {},
   "outputs": [
    {
     "data": {
      "text/plain": [
       "GridSearchCV(cv=5, error_score='raise',\n",
       "       estimator=Pipeline(memory=None,\n",
       "     steps=[('tfidfvectorizer', TfidfVectorizer(analyzer='word', binary=False, decode_error='strict',\n",
       "        dtype=<class 'numpy.int64'>, encoding='utf-8', input='content',\n",
       "        lowercase=True, max_df=1.0, max_features=None, min_df=5,\n",
       "        ngram_range=(1, 1), norm='l2', preprocessor=None, smooth_i...ty='l2', random_state=None, solver='liblinear', tol=0.0001,\n",
       "          verbose=0, warm_start=False))]),\n",
       "       fit_params=None, iid=True, n_jobs=1,\n",
       "       param_grid={'logisticregression__C': [0.001, 0.01, 0.1, 1, 10, 100], 'tfidfvectorizer__ngram_range': [(1, 1), (1, 2), (1, 3)]},\n",
       "       pre_dispatch='2*n_jobs', refit=True, return_train_score='warn',\n",
       "       scoring=None, verbose=0)"
      ]
     },
     "execution_count": 90,
     "metadata": {},
     "output_type": "execute_result"
    }
   ],
   "source": [
    "grid.fit(text_train,y_train)"
   ]
  },
  {
   "cell_type": "code",
   "execution_count": 91,
   "metadata": {},
   "outputs": [
    {
     "name": "stdout",
     "output_type": "stream",
     "text": [
      "Best Score is :0.91\n",
      "Best Parameters:\n",
      "{'logisticregression__C': 100, 'tfidfvectorizer__ngram_range': (1, 3)}\n"
     ]
    }
   ],
   "source": [
    "print('Best Score is :{:.2f}'.format(grid.best_score_))\n",
    "print('Best Parameters:\\n{}'.format(grid.best_params_))"
   ]
  },
  {
   "cell_type": "markdown",
   "metadata": {},
   "source": [
    "# <span style='color:red'>Extract scores from Grid Search</span>"
   ]
  },
  {
   "cell_type": "code",
   "execution_count": 92,
   "metadata": {},
   "outputs": [
    {
     "data": {
      "text/plain": [
       "<matplotlib.colorbar.Colorbar at 0x2610830cda0>"
      ]
     },
     "execution_count": 92,
     "metadata": {},
     "output_type": "execute_result"
    },
    {
     "data": {
      "image/png": "[encoded data removed]",
      "text/plain": [
       "<Figure size 432x288 with 2 Axes>"
      ]
     },
     "metadata": {},
     "output_type": "display_data"
    }
   ],
   "source": [
    "scores=grid.cv_results_['mean_test_score'].reshape(-1,3).T\n",
    "heatmap=mglearn1.tools.heatmap(scores,xlabel='C',ylabel='ngram_range',cmap='viridis',fmt='%.3f',\n",
    "                               xticklabels=param_grid['logisticregression__C'],\n",
    "                               yticklabels=param_grid['tfidfvectorizer__ngram_range'])\n",
    "plt.colorbar(heatmap)"
   ]
  },
  {
   "cell_type": "code",
   "execution_count": 93,
   "metadata": {
    "collapsed": true
   },
   "outputs": [],
   "source": [
    "vect=grid.best_estimator_.named_steps['tfidfvectorizer']"
   ]
  },
  {
   "cell_type": "code",
   "execution_count": 94,
   "metadata": {
    "collapsed": true
   },
   "outputs": [],
   "source": [
    "feature_names=np.array(vect.get_feature_names())"
   ]
  },
  {
   "cell_type": "code",
   "execution_count": 95,
   "metadata": {
    "collapsed": true
   },
   "outputs": [],
   "source": [
    "coef=grid.best_estimator_.named_steps['logisticregression'].coef_"
   ]
  },
  {
   "cell_type": "code",
   "execution_count": 96,
   "metadata": {},
   "outputs": [
    {
     "data": {
      "image/png": "[encoded data removed]",
      "text/plain": [
       "<Figure size 1080x360 with 1 Axes>"
      ]
     },
     "metadata": {},
     "output_type": "display_data"
    }
   ],
   "source": [
    "mglearn1.tools.visualize_coefficients(coef[0],feature_names,n_top_features=40)"
   ]
  },
  {
   "cell_type": "markdown",
   "metadata": {},
   "source": [
    "# Get into the insight of TRIGRAM -  3 gram words"
   ]
  },
  {
   "cell_type": "code",
   "execution_count": 97,
   "metadata": {
    "collapsed": true
   },
   "outputs": [],
   "source": [
    "mask=np.array([len(feature.split(' ')) for feature in feature_names])==3"
   ]
  },
  {
   "cell_type": "code",
   "execution_count": 98,
   "metadata": {
    "collapsed": true
   },
   "outputs": [],
   "source": [
    "coef_mask=coef.ravel()[mask]"
   ]
  },
  {
   "cell_type": "code",
   "execution_count": 99,
   "metadata": {},
   "outputs": [
    {
     "data": {
      "image/png": "[encoded data removed]",
      "text/plain": [
       "<Figure size 1080x360 with 1 Axes>"
      ]
     },
     "metadata": {},
     "output_type": "display_data"
    }
   ],
   "source": [
    "mglearn1.tools.visualize_coefficients(coef_mask,feature_names[mask],n_top_features=30)"
   ]
  },
  {
   "cell_type": "markdown",
   "metadata": {},
   "source": [
    "# Advance tokenization, Stemming and Lemmatization\n",
    "- Treating verbed and words starting with same set of letters\n",
    "- Singular and plural forms of the word may have very little distingusighing character so taking these words differently might incraese the overfitting\n",
    "- **STEMMING and LEMMATIZATION **\n",
    "- STEMMING : Words having the same STEM, if identified by RULE BASED HEURISTIC like dropping common suffix\n",
    "- LEMMATIZATION: If based upon dictionary of know words, factoring role of the wowrds in sentences ==>standardized form of word = LEMMA\n",
    "- It is NORMALIZATION = STEMMING , LEMMATIZATION, Spelling correction\n",
    "\n",
    "## Compare STEMMING - PORTER STEMMER (Widely used collection of heuristics) and LEMMATIZATION (from Spacy package)\n",
    "\n",
    "## https://spacy.io/usage/spacy-101"
   ]
  },
  {
   "cell_type": "code",
   "execution_count": 100,
   "metadata": {
    "collapsed": true
   },
   "outputs": [],
   "source": [
    "import spacy\n",
    "import nltk"
   ]
  },
  {
   "cell_type": "code",
   "execution_count": 101,
   "metadata": {
    "collapsed": true
   },
   "outputs": [],
   "source": [
    "import re"
   ]
  },
  {
   "cell_type": "code",
   "execution_count": 102,
   "metadata": {
    "collapsed": true
   },
   "outputs": [],
   "source": [
    "#load spacy english language models\n",
    "en_nlp=spacy.load('en')\n",
    "\n",
    "#instantiate nltk's porter stemmer\n",
    "stemmer=nltk.stem.PorterStemmer()"
   ]
  },
  {
   "cell_type": "code",
   "execution_count": 106,
   "metadata": {},
   "outputs": [
    {
     "data": {
      "text/plain": [
       "i am I am neeraj "
      ]
     },
     "execution_count": 106,
     "metadata": {},
     "output_type": "execute_result"
    }
   ],
   "source": [
    "en_nlp.tokenizer.tokens_from_list(['i','am', 'I am neeraj'])"
   ]
  },
  {
   "cell_type": "code",
   "execution_count": 107,
   "metadata": {
    "collapsed": true
   },
   "outputs": [],
   "source": [
    "def compare_normalization(doc):\n",
    "    # tokenization in spacy\n",
    "    doc_spacy=en_nlp(doc)\n",
    "    # print lemma found in spacy\n",
    "    print('Lemmatization :\\n')\n",
    "    print([token.lemma_ for token in doc_spacy])\n",
    "    # print tokens found by porter stemmer\n",
    "    print('\\nStemming :\\n')\n",
    "    print([stemmer.stem(token.norm_.lower()) for token in doc_spacy])"
   ]
  },
  {
   "cell_type": "code",
   "execution_count": 108,
   "metadata": {
    "collapsed": true
   },
   "outputs": [],
   "source": [
    "text=u\"Our meeting today was worse than yesterday ,I 'm scared of meeting the client yesterday\""
   ]
  },
  {
   "cell_type": "code",
   "execution_count": 109,
   "metadata": {},
   "outputs": [
    {
     "name": "stdout",
     "output_type": "stream",
     "text": [
      "Lemmatization :\n",
      "\n",
      "['-PRON-', 'meeting', 'today', 'be', 'bad', 'than', 'yesterday', ',', '-PRON-', \"'\", 'm', 'scared', 'of', 'meet', 'the', 'client', 'yesterday']\n",
      "\n",
      "Stemming :\n",
      "\n",
      "['our', 'meet', 'today', 'wa', 'wors', 'than', 'yesterday', ',', 'i', \"'\", 'am', 'scare', 'of', 'meet', 'the', 'client', 'yesterday']\n"
     ]
    }
   ],
   "source": [
    "compare_normalization(text)"
   ]
  },
  {
   "cell_type": "markdown",
   "metadata": {},
   "source": [
    "- **Stemming : Restricted to trimming the word to a stem**\n",
    "- **Lemmatization : retrive the correct base verb form**\n",
    "- Lemmatization : First occurance of meeting is recognized as noun , while the second as verb\n",
    "- Lemmatization is muc more involved process than stemming while normalization of tokens for ML\n",
    "- "
   ]
  },
  {
   "cell_type": "markdown",
   "metadata": {},
   "source": [
    "-<span style='color:blue'> We want to use regular expression based tokenizer that is used by CountVectorizer and only use the **lemmatization** from spacy. We replace en_nlp.tokenizer with regular expression based tokenization</span>"
   ]
  },
  {
   "cell_type": "code",
   "execution_count": 110,
   "metadata": {
    "collapsed": true
   },
   "outputs": [],
   "source": [
    "regexp=re.compile('(?u)\\\\b\\\\w\\\\w+\\\\b')"
   ]
  },
  {
   "cell_type": "code",
   "execution_count": 111,
   "metadata": {
    "collapsed": true
   },
   "outputs": [],
   "source": [
    "old_tokenizer=en_nlp.tokenizer\n",
    "#replace the tokenizer with regular exp\n",
    "en_nlp.tokenizer=lambda string:old_tokenizer.tokens_from_list(regexp.findall(string))"
   ]
  },
  {
   "cell_type": "code",
   "execution_count": 112,
   "metadata": {
    "collapsed": true
   },
   "outputs": [],
   "source": [
    "def custom_tokenizer(doc):\n",
    "    doc_spacy = en_nlp(doc)\n",
    "    return([token.lemma_ for token in doc_spacy])"
   ]
  },
  {
   "cell_type": "code",
   "execution_count": 113,
   "metadata": {
    "collapsed": true
   },
   "outputs": [],
   "source": [
    "#define a count vectorizer with custome tokenizer\n",
    "lemma_vect = CountVectorizer(tokenizer=custom_tokenizer,min_df=5)"
   ]
  },
  {
   "cell_type": "code",
   "execution_count": 114,
   "metadata": {
    "collapsed": true
   },
   "outputs": [],
   "source": [
    "# Transform the data and inspect vocabulary size\n",
    "X_train_lemma=lemma_vect.fit_transform(text_train)"
   ]
  },
  {
   "cell_type": "code",
   "execution_count": 119,
   "metadata": {},
   "outputs": [
    {
     "name": "stdout",
     "output_type": "stream",
     "text": [
      "features after running through Lemmatization: (25000, 21543)\n",
      "features in the original text :(25000, 27271)\n"
     ]
    }
   ],
   "source": [
    "print('features after running through Lemmatization: {}'.format(X_train_lemma.shape))\n",
    "print('features in the original text :{}'.format(X_train.shape))\n"
   ]
  },
  {
   "cell_type": "markdown",
   "metadata": {},
   "source": [
    "# We can see feature / attributes have been reduced using lemmatization It can be seen as REGULARIZATION as it conflates certain features.\n",
    "\n",
    "# Illustration as how Lemmatization can impove the result.\n",
    "- We wull use StratifiedShuffleSplit for cross validation using only 1% of the data as Training set and rest as TEST set"
   ]
  },
  {
   "cell_type": "code",
   "execution_count": 130,
   "metadata": {
    "collapsed": true
   },
   "outputs": [],
   "source": [
    "# Build a grid search using 1% of data as training set\n",
    "from sklearn.model_selection import StratifiedShuffleSplit"
   ]
  },
  {
   "cell_type": "code",
   "execution_count": 131,
   "metadata": {
    "collapsed": true
   },
   "outputs": [],
   "source": [
    "param_grid ={'C':[0.001,0.01,0.1,1,10]}"
   ]
  },
  {
   "cell_type": "code",
   "execution_count": 133,
   "metadata": {},
   "outputs": [],
   "source": [
    "cv = StratifiedShuffleSplit(n_splits=5,test_size=0.99,train_size=0.01,random_state=0)"
   ]
  },
  {
   "cell_type": "code",
   "execution_count": 134,
   "metadata": {
    "collapsed": true
   },
   "outputs": [],
   "source": [
    "grid=GridSearchCV(LogisticRegression(),param_grid=param_grid,cv=cv)"
   ]
  },
  {
   "cell_type": "code",
   "execution_count": 135,
   "metadata": {},
   "outputs": [
    {
     "data": {
      "text/plain": [
       "GridSearchCV(cv=StratifiedShuffleSplit(n_splits=5, random_state=0, test_size=0.99,\n",
       "            train_size=0.01),\n",
       "       error_score='raise',\n",
       "       estimator=LogisticRegression(C=1.0, class_weight=None, dual=False, fit_intercept=True,\n",
       "          intercept_scaling=1, max_iter=100, multi_class='ovr', n_jobs=1,\n",
       "          penalty='l2', random_state=None, solver='liblinear', tol=0.0001,\n",
       "          verbose=0, warm_start=False),\n",
       "       fit_params=None, iid=True, n_jobs=1,\n",
       "       param_grid={'C': [0.001, 0.01, 0.1, 1, 10]},\n",
       "       pre_dispatch='2*n_jobs', refit=True, return_train_score='warn',\n",
       "       scoring=None, verbose=0)"
      ]
     },
     "execution_count": 135,
     "metadata": {},
     "output_type": "execute_result"
    }
   ],
   "source": [
    "#Grid search with standard CountVectorizer\n",
    "grid.fit(X_train,y_train)"
   ]
  },
  {
   "cell_type": "code",
   "execution_count": 136,
   "metadata": {},
   "outputs": [
    {
     "name": "stdout",
     "output_type": "stream",
     "text": [
      "Best Cross Validation Score :0.767\n"
     ]
    }
   ],
   "source": [
    "print('Best Cross Validation Score :{:.3f}'.format(grid.best_score_))"
   ]
  },
  {
   "cell_type": "code",
   "execution_count": 137,
   "metadata": {},
   "outputs": [
    {
     "data": {
      "text/plain": [
       "GridSearchCV(cv=StratifiedShuffleSplit(n_splits=5, random_state=0, test_size=0.99,\n",
       "            train_size=0.01),\n",
       "       error_score='raise',\n",
       "       estimator=LogisticRegression(C=1.0, class_weight=None, dual=False, fit_intercept=True,\n",
       "          intercept_scaling=1, max_iter=100, multi_class='ovr', n_jobs=1,\n",
       "          penalty='l2', random_state=None, solver='liblinear', tol=0.0001,\n",
       "          verbose=0, warm_start=False),\n",
       "       fit_params=None, iid=True, n_jobs=1,\n",
       "       param_grid={'C': [0.001, 0.01, 0.1, 1, 10]},\n",
       "       pre_dispatch='2*n_jobs', refit=True, return_train_score='warn',\n",
       "       scoring=None, verbose=0)"
      ]
     },
     "execution_count": 137,
     "metadata": {},
     "output_type": "execute_result"
    }
   ],
   "source": [
    "# Grid search with Lemmatization\n",
    "grid.fit(X_train_lemma,y_train)"
   ]
  },
  {
   "cell_type": "code",
   "execution_count": 138,
   "metadata": {},
   "outputs": [
    {
     "name": "stdout",
     "output_type": "stream",
     "text": [
      "Best Cross Validation Score :0.730\n"
     ]
    }
   ],
   "source": [
    "print('Best Cross Validation Score :{:.3f}'.format(grid.best_score_))"
   ]
  },
  {
   "cell_type": "markdown",
   "metadata": {},
   "source": [
    "# <span style='color:brown'>Topic Modeling and Document Clustering</span>\n",
    "- If each document can be categoized to one topic , such as NEWS, Politics etc. then this can be acheived through **CLUSTERING**\n",
    "- If each document may have 2 -3 topics that can be achieved through DECOMPOSITION (PCA) and each coefficient represent the weightage for that topic documents carries\n",
    "- Generally people refer to a particular decomposition method for TOPIC Modeling which is Latent Dirichlet Allocation  \n",
    "\n",
    "## <span style:'color:red'>Latent Dirichlet Allocation</span>\n",
    "- Groups of words that occur frequently\n",
    "- In ML , Topic might not be the same as what we normally call in our day today speech\n",
    "- In ML, Topic resembles more the topic of PCA components or NMF factor"
   ]
  },
  {
   "cell_type": "code",
   "execution_count": 142,
   "metadata": {},
   "outputs": [],
   "source": [
    "a= np.arange(1,19,1).reshape(3,6)"
   ]
  },
  {
   "cell_type": "code",
   "execution_count": 150,
   "metadata": {
    "collapsed": true
   },
   "outputs": [],
   "source": [
    "from sklearn.decomposition import LatentDirichletAllocation"
   ]
  },
  {
   "cell_type": "code",
   "execution_count": 151,
   "metadata": {
    "collapsed": true
   },
   "outputs": [],
   "source": [
    "vect = CountVectorizer(max_features=10000,max_df=0.15)"
   ]
  },
  {
   "cell_type": "code",
   "execution_count": 152,
   "metadata": {
    "collapsed": true
   },
   "outputs": [],
   "source": [
    "X=vect.fit_transform(text_train)"
   ]
  },
  {
   "cell_type": "code",
   "execution_count": 154,
   "metadata": {
    "collapsed": true
   },
   "outputs": [],
   "source": [
    "lda=LatentDirichletAllocation(n_components=10,learning_method='batch',max_iter=25,n_jobs=-1,random_state=0)"
   ]
  },
  {
   "cell_type": "code",
   "execution_count": 161,
   "metadata": {},
   "outputs": [],
   "source": [
    "document_topics=lda.fit_transform(X)"
   ]
  },
  {
   "cell_type": "code",
   "execution_count": 164,
   "metadata": {},
   "outputs": [
    {
     "data": {
      "text/plain": [
       "(25000, 10)"
      ]
     },
     "execution_count": 164,
     "metadata": {},
     "output_type": "execute_result"
    }
   ],
   "source": [
    "document_topics.shape"
   ]
  },
  {
   "cell_type": "code",
   "execution_count": 165,
   "metadata": {},
   "outputs": [
    {
     "data": {
      "text/plain": [
       "(10, 10000)"
      ]
     },
     "execution_count": 165,
     "metadata": {},
     "output_type": "execute_result"
    }
   ],
   "source": [
    "lda.components_.shape"
   ]
  },
  {
   "cell_type": "markdown",
   "metadata": {},
   "source": [
    "# Note: Size of components is \n",
    "- (n_topics X n_words)\n",
    "- Each cross section value tells how important is each word for that corresponding topic\n",
    "\n",
    "## Lets dig into each topic to find out how topics differs with importance of words"
   ]
  },
  {
   "cell_type": "code",
   "execution_count": 168,
   "metadata": {},
   "outputs": [],
   "source": [
    "sorting=np.argsort(lda.components_,axis=1)[:,::-1]"
   ]
  },
  {
   "cell_type": "code",
   "execution_count": 171,
   "metadata": {},
   "outputs": [
    {
     "data": {
      "text/plain": [
       "array([[ 994, 3383, 9970],\n",
       "       [9672, 9900, 9465],\n",
       "       [3764, 1866, 4090],\n",
       "       [8074, 7924, 3133],\n",
       "       [2610, 7755,  430],\n",
       "       [ 230, 2974, 6158],\n",
       "       [5025,  230,  495],\n",
       "       [1484, 7582, 4903],\n",
       "       [7582, 6561, 4903],\n",
       "       [4407, 4420, 5028]], dtype=int64)"
      ]
     },
     "execution_count": 171,
     "metadata": {},
     "output_type": "execute_result"
    }
   ],
   "source": [
    "sorting[:,:3]"
   ]
  },
  {
   "cell_type": "code",
   "execution_count": 185,
   "metadata": {},
   "outputs": [],
   "source": [
    "feature_names=np.array(vect.get_feature_names())"
   ]
  },
  {
   "cell_type": "code",
   "execution_count": 189,
   "metadata": {},
   "outputs": [
    {
     "data": {
      "text/plain": [
       "array(['between', 'family', 'young', 'real', 'performance', 'beautiful',\n",
       "       'both', 'each', 'work', 'us'], dtype='<U17')"
      ]
     },
     "execution_count": 189,
     "metadata": {},
     "output_type": "execute_result"
    }
   ],
   "source": [
    "feature_names[sorting[0,:10]]"
   ]
  },
  {
   "cell_type": "code",
   "execution_count": 190,
   "metadata": {},
   "outputs": [
    {
     "name": "stdout",
     "output_type": "stream",
     "text": [
      "topic 0       topic 1       topic 2       topic 3       topic 4       \n",
      "--------      --------      --------      --------      --------      \n",
      "between       war           funny         show          didn          \n",
      "family        world         comedy        series        saw           \n",
      "young         us            guy           episode       am            \n",
      "real          our           re            tv            thought       \n",
      "performance   american      worst         episodes      watched       \n",
      "beautiful     documentary   thing         shows         book          \n",
      "both          history       stupid        season        got           \n",
      "each          new           laugh         new           now           \n",
      "work          years         actually      musical       read          \n",
      "us            own           want          years         10            \n",
      "\n",
      "\n",
      "topic 5       topic 6       topic 7       topic 8       topic 9       \n",
      "--------      --------      --------      --------      --------      \n",
      "action        kids          cast          role          horror        \n",
      "effects       action        role          performance   house         \n",
      "nothing       animation     john          john          killer        \n",
      "horror        game          version       actor         woman         \n",
      "budget        fun           novel         oscar         gets          \n",
      "director      disney        both          plays         girl          \n",
      "minutes       children      performance   jack          wife          \n",
      "script        10            director      cast          goes          \n",
      "original      old           played        joe           dead          \n",
      "doesn         kid           young         played        around        \n",
      "\n",
      "\n"
     ]
    }
   ],
   "source": [
    "mglearn1.tools.print_topics(topics=range(10),feature_names=feature_names,sorting=sorting,topics_per_chunk=5,n_words=10)"
   ]
  },
  {
   "cell_type": "code",
   "execution_count": 194,
   "metadata": {},
   "outputs": [
    {
     "data": {
      "text/plain": [
       "array(['11', '13', '10', '13th', '12', '100', '1000', '000', '101', '00'],\n",
       "      dtype='<U17')"
      ]
     },
     "execution_count": 194,
     "metadata": {},
     "output_type": "execute_result"
    }
   ],
   "source": [
    "feature_names[np.argsort(document_topics[0])]"
   ]
  },
  {
   "cell_type": "markdown",
   "metadata": {},
   "source": [
    "# <span style='color:red'>Note:-</span>\n",
    "- We have confined topics to 10 , so each topic needs tobe very broad so that they can together cover the reviews of whole dataset\n",
    "- We can increase the topic or component range to get specialization of topic\n",
    "- Lets increase the topic numbers"
   ]
  },
  {
   "cell_type": "code",
   "execution_count": 196,
   "metadata": {
    "collapsed": true
   },
   "outputs": [],
   "source": [
    "lda100=LatentDirichletAllocation(n_components=100,learning_method='batch',max_iter=25,random_state=0)"
   ]
  },
  {
   "cell_type": "code",
   "execution_count": 197,
   "metadata": {
    "collapsed": true
   },
   "outputs": [],
   "source": [
    "document_topics100=lda100.fit_transform(X)"
   ]
  },
  {
   "cell_type": "code",
   "execution_count": 198,
   "metadata": {},
   "outputs": [
    {
     "data": {
      "text/plain": [
       "(25000, 100)"
      ]
     },
     "execution_count": 198,
     "metadata": {},
     "output_type": "execute_result"
    }
   ],
   "source": [
    "document_topics100.shape"
   ]
  },
  {
   "cell_type": "code",
   "execution_count": 199,
   "metadata": {},
   "outputs": [
    {
     "data": {
      "text/plain": [
       "(100, 10000)"
      ]
     },
     "execution_count": 199,
     "metadata": {},
     "output_type": "execute_result"
    }
   ],
   "source": [
    "lda100.components_.shape"
   ]
  },
  {
   "cell_type": "code",
   "execution_count": 210,
   "metadata": {},
   "outputs": [
    {
     "data": {
      "text/plain": [
       "array(['john', 'silent', 'billy', 'boss', 'candy', 'uncle', 'christopher',\n",
       "       'chaplin', 'star', 'william', 'davies', 'hollywood', 'stars',\n",
       "       'slapstick', 'barry', 'walken', 'marion', 'actor', 'part', 'role'],\n",
       "      dtype='<U17')"
      ]
     },
     "execution_count": 210,
     "metadata": {},
     "output_type": "execute_result"
    }
   ],
   "source": [
    "np.array(vect.get_feature_names())[np.argsort(lda100.components_[8])[::-1][:20]]"
   ]
  },
  {
   "cell_type": "markdown",
   "metadata": {},
   "source": [
    "# Let's select few topics out of 100 "
   ]
  },
  {
   "cell_type": "code",
   "execution_count": 211,
   "metadata": {
    "collapsed": true
   },
   "outputs": [],
   "source": [
    "topics=np.array([7,16,24,25,28,36,37,45,51,53,54,63,89,97])"
   ]
  },
  {
   "cell_type": "code",
   "execution_count": 212,
   "metadata": {
    "collapsed": true
   },
   "outputs": [],
   "source": [
    "sorting= np.argsort(lda100.components_,axis=1)[:,::-1]"
   ]
  },
  {
   "cell_type": "code",
   "execution_count": 213,
   "metadata": {
    "collapsed": true
   },
   "outputs": [],
   "source": [
    "feature_names=np.array(vect.get_feature_names())"
   ]
  },
  {
   "cell_type": "code",
   "execution_count": 215,
   "metadata": {},
   "outputs": [
    {
     "name": "stdout",
     "output_type": "stream",
     "text": [
      "topic 7       topic 16      topic 24      topic 25      topic 28      topic 36      topic 37      \n",
      "--------      --------      --------      --------      --------      --------      --------      \n",
      "horror        stupid        new           guy           game          play          war           \n",
      "mystery       worst         city          gets          team          role          world         \n",
      "atmosphere    crap          york          house         football      actors        japanese      \n",
      "murder        want          young         around        sports        cast          german        \n",
      "house         terrible      midnight      girl          johnny        performance   soldier       \n",
      "ghost         awful         between       goes          alex          excellent     japan         \n",
      "thriller      boring        past          car           canadian      performances  american      \n",
      "director      horrible      both          down          young         actor         ii            \n",
      "dark          actors        tragic        killed        girls         version       von           \n",
      "suspense      thing         place         woman         players       screen        us            \n",
      "genre         10            beautifully   going         fun           roles         soldiers      \n",
      "castle        waste         boy           doesn         grey          fine          germany       \n",
      "murders       money         kirk          kill          english       work          during        \n",
      "hitchcock     oh            buck          away          baseball      played        spy           \n",
      "night         nothing       excellent     starts        player        both          vietnam       \n",
      "haunted       worse         spock         take          girl          director      nazi          \n",
      "may           mean          john          head          soccer        shakespeare   wwii          \n",
      "haunting      piece         performance   home          play          stage         nazis         \n",
      "fans          guy           gritty        dead          workers       quite         military      \n",
      "viewer        avoid         picture       find          playing       wonderful     men           \n",
      "\n",
      "\n",
      "topic 45      topic 51      topic 53      topic 54      topic 63      topic 89      topic 97      \n",
      "--------      --------      --------      --------      --------      --------      --------      \n",
      "years         christmas     musical       vampire       horror        zombie        us            \n",
      "saw           santa         dance         vampires      gore          dead          real          \n",
      "again         children      music         blood         scary         zombies       different     \n",
      "dvd           holiday       song          russian       pretty        machine       our           \n",
      "music         cowboy        songs         bat           slasher       living        between       \n",
      "remember      texas         singing       scott         blood         re            each          \n",
      "now           kids          dancing       dracula       flick         flesh         lives         \n",
      "watched       bull          numbers       effects       fun           military      true          \n",
      "ago           bud           number        special       few           eating        relationship  \n",
      "am            claus         sing          scrooge       re            soldiers      feel          \n",
      "loved         eve           sinatra       plus          isn           romero        find          \n",
      "video         shop          singer        nicole        effects       look          world         \n",
      "old           family        stage         eva           lot           brain         heart         \n",
      "since         sissy         voice         chess         actually      around        things        \n",
      "recommend     money         band          looks         nothing       car           audience      \n",
      "fan           urban         musicals      quite         genre         head          makes         \n",
      "times         need          broadway      omen          dead          must          together      \n",
      "10            naughty       star          amazing       doesn         minutes       feeling       \n",
      "seeing        around        streisand     ghost         looking       mall          society       \n",
      "find          home          show          nothing       bit           take          come          \n",
      "\n",
      "\n"
     ]
    }
   ],
   "source": [
    "mglearn1.tools.print_topics(topics=topics,feature_names=feature_names,sorting=sorting,topics_per_chunk=7,n_words=20)"
   ]
  },
  {
   "cell_type": "markdown",
   "metadata": {},
   "source": [
    "# Let's deep dive into topic # 53"
   ]
  },
  {
   "cell_type": "code",
   "execution_count": 222,
   "metadata": {},
   "outputs": [],
   "source": [
    "music_idx=np.argsort(document_topics100[:,53])[::-1]"
   ]
  },
  {
   "cell_type": "code",
   "execution_count": 226,
   "metadata": {},
   "outputs": [
    {
     "name": "stdout",
     "output_type": "stream",
     "text": [
      "b'This movie will always be a Broadway and Movie classic, as long as there are still people who sing, dance, and act..\\n'\n",
      "b'Gene Kelly, Frank Sinatra, Kathryn Grayson, and Jose Iturbi star in \"Anchors Aweigh,\" directed by George Sidney.  Kelly and Sinatra are Joe and Clarence, two navy guys on leave in Hollywood.\\n'\n",
      "b\"Such energy and vitality. You just can't go wrong with Busby Berkley films and this certainly must be his best.\\n\"\n",
      "b'Two sailors are on leave--ladies man Joseph Brady (Gene Kelly) and shy innocent Clarence Doolittle (Frank Sinatra). They meet beautiful Susan Abbott (Kathryn Grayson) and both fall in love with her.\\n'\n",
      "b'One of the first of the best musicals, Anchors Aweigh features several memorable musical sequences, such as Kelly dancing with Jerry the mouse, Kelly dancing with 7-year-old Sharon McManus, Sinatra singing with Jose Iturbi playing piano, Kathryn Grayson singing with Iturbi conducting, and much more. The Technicolor is perfect, with some innovative camera work such as seeing a piano played from beneath, through transparent keys, and Grayson singing, seen through the finder of another camera.\\n'\n",
      "b'Lots of singing and dancing in this one, especially by Gene Kelly. Two sailors go on liberty to see if they can find love and romance.\\n'\n",
      "b'Joan Fontaine is \"A Damsel in Distress\" in this 1937 musical starring Fred Astaire, George Burns, and Gracie Allen. The plot, what there is of it, is about a British woman (Fontaine) in love with an American, who is mistaken for Astaire, a musical comedy star.\\n'\n",
      "b'Absolutely enjoyable singing and dancing movie starring Frank Sinatra and gen Kelly, as well as Kathryn Grayson.  The film won and Oscar for George E.\\n'\n",
      "b'Had I been familiar with the stage production of Guys and Dolls before seeing the movie, I might not be as fond of it as I am. Although in all fairness, I would probably still like the film production better because of my general adoration of both Brando (for his acting) and Sinatra (for his voice, although he is quite the actor as well, see The Manchurian Candidate or From Here to Eternity.\\n'\n",
      "b'A wonder. One of the best musicals ever.\\n'\n"
     ]
    }
   ],
   "source": [
    "for i in music_idx[:10]:\n",
    "    print(b\".\".join(text_train[i].split(b\".\")[:2])+b\".\\n\")"
   ]
  },
  {
   "cell_type": "code",
   "execution_count": 230,
   "metadata": {},
   "outputs": [
    {
     "data": {
      "text/plain": [
       "(25000, 100)"
      ]
     },
     "execution_count": 230,
     "metadata": {},
     "output_type": "execute_result"
    }
   ],
   "source": [
    "document_topics100.shape"
   ]
  },
  {
   "cell_type": "code",
   "execution_count": 247,
   "metadata": {},
   "outputs": [
    {
     "data": {
      "image/png": "[encoded data removed]",
      "text/plain": [
       "<Figure size 720x720 with 2 Axes>"
      ]
     },
     "metadata": {},
     "output_type": "display_data"
    }
   ],
   "source": [
    "fig,ax = plt.subplots(1,2,figsize=(10,10))\n",
    "topic_names=['{:>2} '.format(i)+\" \".join(words) for i, words in enumerate(feature_names[sorting[:,:2]])]\n",
    "\n",
    "for col in [0,1]:\n",
    "    start =col*50\n",
    "    end = (1+col)*50\n",
    "    ax[col].barh(np.arange(50),np.sum(document_topics100,axis=0)[start:end])\n",
    "    ax[col].set_yticks(np.arange(50))\n",
    "    ax[col].set_yticklabels(topic_names[start:end],ha='left',va='top')\n",
    "    ax[col].invert_yaxis()\n",
    "    ax[col].set_xlim(0,2000)\n",
    "    yax=ax[col].get_yaxis()\n",
    "    yax.set_tick_params(pad=130)\n",
    "plt.tight_layout()"
   ]
  },
  {
   "cell_type": "code",
   "execution_count": 235,
   "metadata": {},
   "outputs": [
    {
     "data": {
      "text/plain": [
       "[' 0actors hollywood',\n",
       " ' 1action fight',\n",
       " ' 2funny comedy',\n",
       " ' 3beautiful world',\n",
       " ' 4original remake',\n",
       " ' 5minutes columbo',\n",
       " ' 6ben jackson',\n",
       " ' 7horror mystery',\n",
       " ' 8john silent',\n",
       " ' 9witch williams',\n",
       " '10series tv',\n",
       " '11boll uwe',\n",
       " '12black white',\n",
       " '13earth space',\n",
       " '14victoria queen',\n",
       " '15de nancy',\n",
       " '16stupid worst',\n",
       " '17dvd version',\n",
       " '18maria holmes',\n",
       " '19family father',\n",
       " '20seems perhaps',\n",
       " '21doc savage',\n",
       " '22richard sean',\n",
       " '23comedy romantic',\n",
       " '24new city',\n",
       " '25guy gets',\n",
       " '26effects special',\n",
       " '27rock students',\n",
       " '28game team',\n",
       " '29rob women',\n",
       " '30documentary art',\n",
       " '31new years',\n",
       " '32paris kelly',\n",
       " '33budget low',\n",
       " '34jack carrey',\n",
       " '35prison george',\n",
       " '36play role',\n",
       " '37war world',\n",
       " '38cop crime',\n",
       " '39mary andy',\n",
       " '40jay kurosawa',\n",
       " '41tarzan code',\n",
       " '42american political',\n",
       " '43school high',\n",
       " '44killer serial',\n",
       " '45years saw',\n",
       " '46drug director',\n",
       " '47sister howard',\n",
       " '48marie caine',\n",
       " '49island paul',\n",
       " '50grant british',\n",
       " '51christmas santa',\n",
       " '52tale cinderella',\n",
       " '53musical dance',\n",
       " '54vampire vampires',\n",
       " '55jones steve',\n",
       " '56mr ed',\n",
       " '57al pacino',\n",
       " '58tom cat',\n",
       " '59sex nudity',\n",
       " '60oscar award',\n",
       " '61joe girls',\n",
       " '62indian songs',\n",
       " '63horror gore',\n",
       " '64page arthur',\n",
       " '65tim michael',\n",
       " '66minutes worst',\n",
       " '67action chinese',\n",
       " '68martin ann',\n",
       " '69jim giallo',\n",
       " '70thriller action',\n",
       " '71charlie our',\n",
       " '72young ford',\n",
       " '73book read',\n",
       " '74kid ha',\n",
       " '75lee john',\n",
       " '76morgan freeman',\n",
       " '77dr lugosi',\n",
       " '78episode future',\n",
       " '79tony welles',\n",
       " '80star wars',\n",
       " '81cusack catholic',\n",
       " '82harry horse',\n",
       " '83kids animation',\n",
       " '84match ring',\n",
       " '85women woman',\n",
       " '86show shows',\n",
       " '87version jane',\n",
       " '88didn thought',\n",
       " '89zombie dead',\n",
       " '90french france',\n",
       " '91italian jr',\n",
       " '92western stewart',\n",
       " '93noir computer',\n",
       " '94king nick',\n",
       " '95adam 11',\n",
       " '96jack freddy',\n",
       " '97us real',\n",
       " '98chris cars',\n",
       " '99david hotel']"
      ]
     },
     "execution_count": 235,
     "metadata": {},
     "output_type": "execute_result"
    }
   ],
   "source": [
    "topic_names"
   ]
  }
 ],
 "metadata": {
  "kernelspec": {
   "display_name": "Python 3",
   "language": "python",
   "name": "python3"
  },
  "language_info": {
   "codemirror_mode": {
    "name": "ipython",
    "version": 3
   },
   "file_extension": ".py",
   "mimetype": "text/x-python",
   "name": "python",
   "nbconvert_exporter": "python",
   "pygments_lexer": "ipython3",
   "version": "3.6.2"
  }
 },
 "nbformat": 4,
 "nbformat_minor": 2
}
